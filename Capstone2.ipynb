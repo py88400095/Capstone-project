{
 "cells": [
  {
   "cell_type": "markdown",
   "metadata": {},
   "source": [
    "# Capstone Project - The Battle of the Neighborhoods "
   ]
  },
  {
   "cell_type": "markdown",
   "metadata": {},
   "source": [
    "## Introduction: Business Problem"
   ]
  },
  {
   "cell_type": "markdown",
   "metadata": {},
   "source": [
    "We will explore to find an optimal location for a restaurant in this project. Specifically, this report will be targeted to opening an **Chinese restaurant** in **Austin**, Texas, America.\n",
    "\n",
    "We will try to detect **locations that are with least number of Chinese restaurant**, We would also prefer locations **as close to University of Austin possible**.\n",
    "\n",
    "We want to help people who are interested in investing a Chinese restaurant in Austin and bring more delicious foods to this fascinating city."
   ]
  },
  {
   "cell_type": "markdown",
   "metadata": {},
   "source": [
    "##  Data"
   ]
  },
  {
   "cell_type": "markdown",
   "metadata": {},
   "source": [
    "We will  mostly utilise **FourSquare data API** and **Google Maps Api**. Venue information are obtained via FourSquare API based on coordiates and approximate addresses of University of Austin obtained from **Google Maps API **"
   ]
  },
  {
   "cell_type": "code",
   "execution_count": null,
   "metadata": {
    "collapsed": true
   },
   "outputs": [],
   "source": []
  }
 ],
 "metadata": {
  "kernelspec": {
   "display_name": "Python 3",
   "language": "python",
   "name": "python3"
  },
  "language_info": {
   "codemirror_mode": {
    "name": "ipython",
    "version": 3
   },
   "file_extension": ".py",
   "mimetype": "text/x-python",
   "name": "python",
   "nbconvert_exporter": "python",
   "pygments_lexer": "ipython3",
   "version": "3.5.2"
  },
  "widgets": {
   "state": {},
   "version": "1.1.2"
  }
 },
 "nbformat": 4,
 "nbformat_minor": 0
}
